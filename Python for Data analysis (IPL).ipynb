{
 "cells": [
  {
   "cell_type": "markdown",
   "id": "12ad709b",
   "metadata": {},
   "source": [
    "# Importing libraries "
   ]
  },
  {
   "cell_type": "code",
   "execution_count": 4,
   "id": "e5ef4c21",
   "metadata": {},
   "outputs": [],
   "source": [
    "import pandas as pd\n",
    "from matplotlib import pyplot as plt\n",
    "import seaborn as sns"
   ]
  },
  {
   "cell_type": "markdown",
   "id": "57027110",
   "metadata": {},
   "source": [
    "# Reading CSV file using pandas"
   ]
  },
  {
   "cell_type": "code",
   "execution_count": 5,
   "id": "def30b99",
   "metadata": {},
   "outputs": [],
   "source": [
    "#To read the CSV file\n",
    "ipl = pd.read_csv('matches.csv')"
   ]
  },
  {
   "cell_type": "code",
   "execution_count": 3,
   "id": "e921b1a6",
   "metadata": {},
   "outputs": [
    {
     "data": {
      "text/html": [
       "<div>\n",
       "<style scoped>\n",
       "    .dataframe tbody tr th:only-of-type {\n",
       "        vertical-align: middle;\n",
       "    }\n",
       "\n",
       "    .dataframe tbody tr th {\n",
       "        vertical-align: top;\n",
       "    }\n",
       "\n",
       "    .dataframe thead th {\n",
       "        text-align: right;\n",
       "    }\n",
       "</style>\n",
       "<table border=\"1\" class=\"dataframe\">\n",
       "  <thead>\n",
       "    <tr style=\"text-align: right;\">\n",
       "      <th></th>\n",
       "      <th>id</th>\n",
       "      <th>season</th>\n",
       "      <th>city</th>\n",
       "      <th>date</th>\n",
       "      <th>team1</th>\n",
       "      <th>team2</th>\n",
       "      <th>toss_winner</th>\n",
       "      <th>toss_decision</th>\n",
       "      <th>result</th>\n",
       "      <th>dl_applied</th>\n",
       "      <th>winner</th>\n",
       "      <th>win_by_runs</th>\n",
       "      <th>win_by_wickets</th>\n",
       "      <th>player_of_match</th>\n",
       "      <th>venue</th>\n",
       "      <th>umpire1</th>\n",
       "      <th>umpire2</th>\n",
       "      <th>umpire3</th>\n",
       "    </tr>\n",
       "  </thead>\n",
       "  <tbody>\n",
       "    <tr>\n",
       "      <th>0</th>\n",
       "      <td>1</td>\n",
       "      <td>2017</td>\n",
       "      <td>Hyderabad</td>\n",
       "      <td>2017-04-05</td>\n",
       "      <td>Sunrisers Hyderabad</td>\n",
       "      <td>Royal Challengers Bangalore</td>\n",
       "      <td>Royal Challengers Bangalore</td>\n",
       "      <td>field</td>\n",
       "      <td>normal</td>\n",
       "      <td>0</td>\n",
       "      <td>Sunrisers Hyderabad</td>\n",
       "      <td>35</td>\n",
       "      <td>0</td>\n",
       "      <td>Yuvraj Singh</td>\n",
       "      <td>Rajiv Gandhi International Stadium, Uppal</td>\n",
       "      <td>AY Dandekar</td>\n",
       "      <td>NJ Llong</td>\n",
       "      <td>NaN</td>\n",
       "    </tr>\n",
       "    <tr>\n",
       "      <th>1</th>\n",
       "      <td>2</td>\n",
       "      <td>2017</td>\n",
       "      <td>Pune</td>\n",
       "      <td>2017-04-06</td>\n",
       "      <td>Mumbai Indians</td>\n",
       "      <td>Rising Pune Supergiant</td>\n",
       "      <td>Rising Pune Supergiant</td>\n",
       "      <td>field</td>\n",
       "      <td>normal</td>\n",
       "      <td>0</td>\n",
       "      <td>Rising Pune Supergiant</td>\n",
       "      <td>0</td>\n",
       "      <td>7</td>\n",
       "      <td>SPD Smith</td>\n",
       "      <td>Maharashtra Cricket Association Stadium</td>\n",
       "      <td>A Nand Kishore</td>\n",
       "      <td>S Ravi</td>\n",
       "      <td>NaN</td>\n",
       "    </tr>\n",
       "    <tr>\n",
       "      <th>2</th>\n",
       "      <td>3</td>\n",
       "      <td>2017</td>\n",
       "      <td>Rajkot</td>\n",
       "      <td>2017-04-07</td>\n",
       "      <td>Gujarat Lions</td>\n",
       "      <td>Kolkata Knight Riders</td>\n",
       "      <td>Kolkata Knight Riders</td>\n",
       "      <td>field</td>\n",
       "      <td>normal</td>\n",
       "      <td>0</td>\n",
       "      <td>Kolkata Knight Riders</td>\n",
       "      <td>0</td>\n",
       "      <td>10</td>\n",
       "      <td>CA Lynn</td>\n",
       "      <td>Saurashtra Cricket Association Stadium</td>\n",
       "      <td>Nitin Menon</td>\n",
       "      <td>CK Nandan</td>\n",
       "      <td>NaN</td>\n",
       "    </tr>\n",
       "    <tr>\n",
       "      <th>3</th>\n",
       "      <td>4</td>\n",
       "      <td>2017</td>\n",
       "      <td>Indore</td>\n",
       "      <td>2017-04-08</td>\n",
       "      <td>Rising Pune Supergiant</td>\n",
       "      <td>Kings XI Punjab</td>\n",
       "      <td>Kings XI Punjab</td>\n",
       "      <td>field</td>\n",
       "      <td>normal</td>\n",
       "      <td>0</td>\n",
       "      <td>Kings XI Punjab</td>\n",
       "      <td>0</td>\n",
       "      <td>6</td>\n",
       "      <td>GJ Maxwell</td>\n",
       "      <td>Holkar Cricket Stadium</td>\n",
       "      <td>AK Chaudhary</td>\n",
       "      <td>C Shamshuddin</td>\n",
       "      <td>NaN</td>\n",
       "    </tr>\n",
       "    <tr>\n",
       "      <th>4</th>\n",
       "      <td>5</td>\n",
       "      <td>2017</td>\n",
       "      <td>Bangalore</td>\n",
       "      <td>2017-04-08</td>\n",
       "      <td>Royal Challengers Bangalore</td>\n",
       "      <td>Delhi Daredevils</td>\n",
       "      <td>Royal Challengers Bangalore</td>\n",
       "      <td>bat</td>\n",
       "      <td>normal</td>\n",
       "      <td>0</td>\n",
       "      <td>Royal Challengers Bangalore</td>\n",
       "      <td>15</td>\n",
       "      <td>0</td>\n",
       "      <td>KM Jadhav</td>\n",
       "      <td>M Chinnaswamy Stadium</td>\n",
       "      <td>NaN</td>\n",
       "      <td>NaN</td>\n",
       "      <td>NaN</td>\n",
       "    </tr>\n",
       "  </tbody>\n",
       "</table>\n",
       "</div>"
      ],
      "text/plain": [
       "   id  season       city        date                        team1  \\\n",
       "0   1    2017  Hyderabad  2017-04-05          Sunrisers Hyderabad   \n",
       "1   2    2017       Pune  2017-04-06               Mumbai Indians   \n",
       "2   3    2017     Rajkot  2017-04-07                Gujarat Lions   \n",
       "3   4    2017     Indore  2017-04-08       Rising Pune Supergiant   \n",
       "4   5    2017  Bangalore  2017-04-08  Royal Challengers Bangalore   \n",
       "\n",
       "                         team2                  toss_winner toss_decision  \\\n",
       "0  Royal Challengers Bangalore  Royal Challengers Bangalore         field   \n",
       "1       Rising Pune Supergiant       Rising Pune Supergiant         field   \n",
       "2        Kolkata Knight Riders        Kolkata Knight Riders         field   \n",
       "3              Kings XI Punjab              Kings XI Punjab         field   \n",
       "4             Delhi Daredevils  Royal Challengers Bangalore           bat   \n",
       "\n",
       "   result  dl_applied                       winner  win_by_runs  \\\n",
       "0  normal           0          Sunrisers Hyderabad           35   \n",
       "1  normal           0       Rising Pune Supergiant            0   \n",
       "2  normal           0        Kolkata Knight Riders            0   \n",
       "3  normal           0              Kings XI Punjab            0   \n",
       "4  normal           0  Royal Challengers Bangalore           15   \n",
       "\n",
       "   win_by_wickets player_of_match                                      venue  \\\n",
       "0               0    Yuvraj Singh  Rajiv Gandhi International Stadium, Uppal   \n",
       "1               7       SPD Smith    Maharashtra Cricket Association Stadium   \n",
       "2              10         CA Lynn     Saurashtra Cricket Association Stadium   \n",
       "3               6      GJ Maxwell                     Holkar Cricket Stadium   \n",
       "4               0       KM Jadhav                      M Chinnaswamy Stadium   \n",
       "\n",
       "          umpire1        umpire2 umpire3  \n",
       "0     AY Dandekar       NJ Llong     NaN  \n",
       "1  A Nand Kishore         S Ravi     NaN  \n",
       "2     Nitin Menon      CK Nandan     NaN  \n",
       "3    AK Chaudhary  C Shamshuddin     NaN  \n",
       "4             NaN            NaN     NaN  "
      ]
     },
     "execution_count": 3,
     "metadata": {},
     "output_type": "execute_result"
    }
   ],
   "source": [
    "#Returns the first 5 rows of the dataframe\n",
    "ipl.head()"
   ]
  },
  {
   "cell_type": "code",
   "execution_count": 5,
   "id": "687fe8fd",
   "metadata": {},
   "outputs": [
    {
     "data": {
      "text/plain": [
       "(756, 18)"
      ]
     },
     "execution_count": 5,
     "metadata": {},
     "output_type": "execute_result"
    }
   ],
   "source": [
    "#Returns no.of rows and columns in the dataframe\n",
    "ipl.shape"
   ]
  },
  {
   "cell_type": "code",
   "execution_count": 11,
   "id": "560ed63b",
   "metadata": {},
   "outputs": [
    {
     "data": {
      "text/plain": [
       "CH Gayle          21\n",
       "AB de Villiers    20\n",
       "RG Sharma         17\n",
       "MS Dhoni          17\n",
       "DA Warner         17\n",
       "                  ..\n",
       "PD Collingwood     1\n",
       "NV Ojha            1\n",
       "AC Voges           1\n",
       "J Theron           1\n",
       "S Hetmyer          1\n",
       "Name: player_of_match, Length: 226, dtype: int64"
      ]
     },
     "execution_count": 11,
     "metadata": {},
     "output_type": "execute_result"
    }
   ],
   "source": [
    "#Returns the frequency of the values in that particular column atttribute\n",
    "ipl['player_of_match'].value_counts()"
   ]
  },
  {
   "cell_type": "code",
   "execution_count": 61,
   "id": "5cdefb4f",
   "metadata": {},
   "outputs": [
    {
     "name": "stdout",
     "output_type": "stream",
     "text": [
      "<class 'pandas.core.frame.DataFrame'>\n",
      "RangeIndex: 756 entries, 0 to 755\n",
      "Data columns (total 18 columns):\n",
      " #   Column           Non-Null Count  Dtype \n",
      "---  ------           --------------  ----- \n",
      " 0   id               756 non-null    int64 \n",
      " 1   season           756 non-null    int64 \n",
      " 2   city             749 non-null    object\n",
      " 3   date             756 non-null    object\n",
      " 4   team1            756 non-null    object\n",
      " 5   team2            756 non-null    object\n",
      " 6   toss_winner      756 non-null    object\n",
      " 7   toss_decision    756 non-null    object\n",
      " 8   result           756 non-null    object\n",
      " 9   dl_applied       756 non-null    int64 \n",
      " 10  winner           752 non-null    object\n",
      " 11  win_by_runs      756 non-null    int64 \n",
      " 12  win_by_wickets   756 non-null    int64 \n",
      " 13  player_of_match  752 non-null    object\n",
      " 14  venue            756 non-null    object\n",
      " 15  umpire1          754 non-null    object\n",
      " 16  umpire2          754 non-null    object\n",
      " 17  umpire3          119 non-null    object\n",
      "dtypes: int64(5), object(13)\n",
      "memory usage: 106.4+ KB\n"
     ]
    }
   ],
   "source": [
    "ipl.info()"
   ]
  },
  {
   "cell_type": "markdown",
   "id": "7305b951",
   "metadata": {},
   "source": [
    "# Descriptive Statistics of the data"
   ]
  },
  {
   "cell_type": "code",
   "execution_count": 64,
   "id": "bb7d780f",
   "metadata": {},
   "outputs": [
    {
     "data": {
      "text/html": [
       "<div>\n",
       "<style scoped>\n",
       "    .dataframe tbody tr th:only-of-type {\n",
       "        vertical-align: middle;\n",
       "    }\n",
       "\n",
       "    .dataframe tbody tr th {\n",
       "        vertical-align: top;\n",
       "    }\n",
       "\n",
       "    .dataframe thead th {\n",
       "        text-align: right;\n",
       "    }\n",
       "</style>\n",
       "<table border=\"1\" class=\"dataframe\">\n",
       "  <thead>\n",
       "    <tr style=\"text-align: right;\">\n",
       "      <th></th>\n",
       "      <th>id</th>\n",
       "      <th>season</th>\n",
       "      <th>dl_applied</th>\n",
       "      <th>win_by_runs</th>\n",
       "      <th>win_by_wickets</th>\n",
       "    </tr>\n",
       "  </thead>\n",
       "  <tbody>\n",
       "    <tr>\n",
       "      <th>count</th>\n",
       "      <td>756.000000</td>\n",
       "      <td>756.000000</td>\n",
       "      <td>756.000000</td>\n",
       "      <td>756.000000</td>\n",
       "      <td>756.000000</td>\n",
       "    </tr>\n",
       "    <tr>\n",
       "      <th>mean</th>\n",
       "      <td>1792.178571</td>\n",
       "      <td>2013.444444</td>\n",
       "      <td>0.025132</td>\n",
       "      <td>13.283069</td>\n",
       "      <td>3.350529</td>\n",
       "    </tr>\n",
       "    <tr>\n",
       "      <th>std</th>\n",
       "      <td>3464.478148</td>\n",
       "      <td>3.366895</td>\n",
       "      <td>0.156630</td>\n",
       "      <td>23.471144</td>\n",
       "      <td>3.387963</td>\n",
       "    </tr>\n",
       "    <tr>\n",
       "      <th>min</th>\n",
       "      <td>1.000000</td>\n",
       "      <td>2008.000000</td>\n",
       "      <td>0.000000</td>\n",
       "      <td>0.000000</td>\n",
       "      <td>0.000000</td>\n",
       "    </tr>\n",
       "    <tr>\n",
       "      <th>25%</th>\n",
       "      <td>189.750000</td>\n",
       "      <td>2011.000000</td>\n",
       "      <td>0.000000</td>\n",
       "      <td>0.000000</td>\n",
       "      <td>0.000000</td>\n",
       "    </tr>\n",
       "    <tr>\n",
       "      <th>50%</th>\n",
       "      <td>378.500000</td>\n",
       "      <td>2013.000000</td>\n",
       "      <td>0.000000</td>\n",
       "      <td>0.000000</td>\n",
       "      <td>4.000000</td>\n",
       "    </tr>\n",
       "    <tr>\n",
       "      <th>75%</th>\n",
       "      <td>567.250000</td>\n",
       "      <td>2016.000000</td>\n",
       "      <td>0.000000</td>\n",
       "      <td>19.000000</td>\n",
       "      <td>6.000000</td>\n",
       "    </tr>\n",
       "    <tr>\n",
       "      <th>max</th>\n",
       "      <td>11415.000000</td>\n",
       "      <td>2019.000000</td>\n",
       "      <td>1.000000</td>\n",
       "      <td>146.000000</td>\n",
       "      <td>10.000000</td>\n",
       "    </tr>\n",
       "  </tbody>\n",
       "</table>\n",
       "</div>"
      ],
      "text/plain": [
       "                 id       season  dl_applied  win_by_runs  win_by_wickets\n",
       "count    756.000000   756.000000  756.000000   756.000000      756.000000\n",
       "mean    1792.178571  2013.444444    0.025132    13.283069        3.350529\n",
       "std     3464.478148     3.366895    0.156630    23.471144        3.387963\n",
       "min        1.000000  2008.000000    0.000000     0.000000        0.000000\n",
       "25%      189.750000  2011.000000    0.000000     0.000000        0.000000\n",
       "50%      378.500000  2013.000000    0.000000     0.000000        4.000000\n",
       "75%      567.250000  2016.000000    0.000000    19.000000        6.000000\n",
       "max    11415.000000  2019.000000    1.000000   146.000000       10.000000"
      ]
     },
     "execution_count": 64,
     "metadata": {},
     "output_type": "execute_result"
    }
   ],
   "source": [
    "ipl.describe()"
   ]
  },
  {
   "cell_type": "code",
   "execution_count": 65,
   "id": "fbfd1197",
   "metadata": {},
   "outputs": [
    {
     "data": {
      "text/html": [
       "<div>\n",
       "<style scoped>\n",
       "    .dataframe tbody tr th:only-of-type {\n",
       "        vertical-align: middle;\n",
       "    }\n",
       "\n",
       "    .dataframe tbody tr th {\n",
       "        vertical-align: top;\n",
       "    }\n",
       "\n",
       "    .dataframe thead th {\n",
       "        text-align: right;\n",
       "    }\n",
       "</style>\n",
       "<table border=\"1\" class=\"dataframe\">\n",
       "  <thead>\n",
       "    <tr style=\"text-align: right;\">\n",
       "      <th></th>\n",
       "      <th>count</th>\n",
       "      <th>mean</th>\n",
       "      <th>std</th>\n",
       "      <th>min</th>\n",
       "      <th>25%</th>\n",
       "      <th>50%</th>\n",
       "      <th>75%</th>\n",
       "      <th>max</th>\n",
       "    </tr>\n",
       "  </thead>\n",
       "  <tbody>\n",
       "    <tr>\n",
       "      <th>id</th>\n",
       "      <td>756.0</td>\n",
       "      <td>1792.178571</td>\n",
       "      <td>3464.478148</td>\n",
       "      <td>1.0</td>\n",
       "      <td>189.75</td>\n",
       "      <td>378.5</td>\n",
       "      <td>567.25</td>\n",
       "      <td>11415.0</td>\n",
       "    </tr>\n",
       "    <tr>\n",
       "      <th>season</th>\n",
       "      <td>756.0</td>\n",
       "      <td>2013.444444</td>\n",
       "      <td>3.366895</td>\n",
       "      <td>2008.0</td>\n",
       "      <td>2011.00</td>\n",
       "      <td>2013.0</td>\n",
       "      <td>2016.00</td>\n",
       "      <td>2019.0</td>\n",
       "    </tr>\n",
       "    <tr>\n",
       "      <th>dl_applied</th>\n",
       "      <td>756.0</td>\n",
       "      <td>0.025132</td>\n",
       "      <td>0.156630</td>\n",
       "      <td>0.0</td>\n",
       "      <td>0.00</td>\n",
       "      <td>0.0</td>\n",
       "      <td>0.00</td>\n",
       "      <td>1.0</td>\n",
       "    </tr>\n",
       "    <tr>\n",
       "      <th>win_by_runs</th>\n",
       "      <td>756.0</td>\n",
       "      <td>13.283069</td>\n",
       "      <td>23.471144</td>\n",
       "      <td>0.0</td>\n",
       "      <td>0.00</td>\n",
       "      <td>0.0</td>\n",
       "      <td>19.00</td>\n",
       "      <td>146.0</td>\n",
       "    </tr>\n",
       "    <tr>\n",
       "      <th>win_by_wickets</th>\n",
       "      <td>756.0</td>\n",
       "      <td>3.350529</td>\n",
       "      <td>3.387963</td>\n",
       "      <td>0.0</td>\n",
       "      <td>0.00</td>\n",
       "      <td>4.0</td>\n",
       "      <td>6.00</td>\n",
       "      <td>10.0</td>\n",
       "    </tr>\n",
       "  </tbody>\n",
       "</table>\n",
       "</div>"
      ],
      "text/plain": [
       "                count         mean          std     min      25%     50%  \\\n",
       "id              756.0  1792.178571  3464.478148     1.0   189.75   378.5   \n",
       "season          756.0  2013.444444     3.366895  2008.0  2011.00  2013.0   \n",
       "dl_applied      756.0     0.025132     0.156630     0.0     0.00     0.0   \n",
       "win_by_runs     756.0    13.283069    23.471144     0.0     0.00     0.0   \n",
       "win_by_wickets  756.0     3.350529     3.387963     0.0     0.00     4.0   \n",
       "\n",
       "                    75%      max  \n",
       "id               567.25  11415.0  \n",
       "season          2016.00   2019.0  \n",
       "dl_applied         0.00      1.0  \n",
       "win_by_runs       19.00    146.0  \n",
       "win_by_wickets     6.00     10.0  "
      ]
     },
     "execution_count": 65,
     "metadata": {},
     "output_type": "execute_result"
    }
   ],
   "source": [
    "ipl.describe().T #Transpose"
   ]
  },
  {
   "cell_type": "markdown",
   "id": "78f8b4c5",
   "metadata": {},
   "source": [
    "# Checking for any null values"
   ]
  },
  {
   "cell_type": "code",
   "execution_count": 107,
   "id": "8a1b6df3",
   "metadata": {},
   "outputs": [
    {
     "data": {
      "text/html": [
       "<div>\n",
       "<style scoped>\n",
       "    .dataframe tbody tr th:only-of-type {\n",
       "        vertical-align: middle;\n",
       "    }\n",
       "\n",
       "    .dataframe tbody tr th {\n",
       "        vertical-align: top;\n",
       "    }\n",
       "\n",
       "    .dataframe thead th {\n",
       "        text-align: right;\n",
       "    }\n",
       "</style>\n",
       "<table border=\"1\" class=\"dataframe\">\n",
       "  <thead>\n",
       "    <tr style=\"text-align: right;\">\n",
       "      <th></th>\n",
       "      <th>id</th>\n",
       "      <th>season</th>\n",
       "      <th>city</th>\n",
       "      <th>date</th>\n",
       "      <th>team1</th>\n",
       "      <th>team2</th>\n",
       "      <th>toss_winner</th>\n",
       "      <th>toss_decision</th>\n",
       "      <th>result</th>\n",
       "      <th>dl_applied</th>\n",
       "      <th>winner</th>\n",
       "      <th>win_by_runs</th>\n",
       "      <th>win_by_wickets</th>\n",
       "      <th>player_of_match</th>\n",
       "      <th>venue</th>\n",
       "      <th>umpire1</th>\n",
       "      <th>umpire2</th>\n",
       "      <th>umpire3</th>\n",
       "    </tr>\n",
       "  </thead>\n",
       "  <tbody>\n",
       "    <tr>\n",
       "      <th>0</th>\n",
       "      <td>False</td>\n",
       "      <td>False</td>\n",
       "      <td>False</td>\n",
       "      <td>False</td>\n",
       "      <td>False</td>\n",
       "      <td>False</td>\n",
       "      <td>False</td>\n",
       "      <td>False</td>\n",
       "      <td>False</td>\n",
       "      <td>False</td>\n",
       "      <td>False</td>\n",
       "      <td>False</td>\n",
       "      <td>False</td>\n",
       "      <td>False</td>\n",
       "      <td>False</td>\n",
       "      <td>False</td>\n",
       "      <td>False</td>\n",
       "      <td>True</td>\n",
       "    </tr>\n",
       "    <tr>\n",
       "      <th>1</th>\n",
       "      <td>False</td>\n",
       "      <td>False</td>\n",
       "      <td>False</td>\n",
       "      <td>False</td>\n",
       "      <td>False</td>\n",
       "      <td>False</td>\n",
       "      <td>False</td>\n",
       "      <td>False</td>\n",
       "      <td>False</td>\n",
       "      <td>False</td>\n",
       "      <td>False</td>\n",
       "      <td>False</td>\n",
       "      <td>False</td>\n",
       "      <td>False</td>\n",
       "      <td>False</td>\n",
       "      <td>False</td>\n",
       "      <td>False</td>\n",
       "      <td>True</td>\n",
       "    </tr>\n",
       "    <tr>\n",
       "      <th>2</th>\n",
       "      <td>False</td>\n",
       "      <td>False</td>\n",
       "      <td>False</td>\n",
       "      <td>False</td>\n",
       "      <td>False</td>\n",
       "      <td>False</td>\n",
       "      <td>False</td>\n",
       "      <td>False</td>\n",
       "      <td>False</td>\n",
       "      <td>False</td>\n",
       "      <td>False</td>\n",
       "      <td>False</td>\n",
       "      <td>False</td>\n",
       "      <td>False</td>\n",
       "      <td>False</td>\n",
       "      <td>False</td>\n",
       "      <td>False</td>\n",
       "      <td>True</td>\n",
       "    </tr>\n",
       "    <tr>\n",
       "      <th>3</th>\n",
       "      <td>False</td>\n",
       "      <td>False</td>\n",
       "      <td>False</td>\n",
       "      <td>False</td>\n",
       "      <td>False</td>\n",
       "      <td>False</td>\n",
       "      <td>False</td>\n",
       "      <td>False</td>\n",
       "      <td>False</td>\n",
       "      <td>False</td>\n",
       "      <td>False</td>\n",
       "      <td>False</td>\n",
       "      <td>False</td>\n",
       "      <td>False</td>\n",
       "      <td>False</td>\n",
       "      <td>False</td>\n",
       "      <td>False</td>\n",
       "      <td>True</td>\n",
       "    </tr>\n",
       "    <tr>\n",
       "      <th>4</th>\n",
       "      <td>False</td>\n",
       "      <td>False</td>\n",
       "      <td>False</td>\n",
       "      <td>False</td>\n",
       "      <td>False</td>\n",
       "      <td>False</td>\n",
       "      <td>False</td>\n",
       "      <td>False</td>\n",
       "      <td>False</td>\n",
       "      <td>False</td>\n",
       "      <td>False</td>\n",
       "      <td>False</td>\n",
       "      <td>False</td>\n",
       "      <td>False</td>\n",
       "      <td>False</td>\n",
       "      <td>True</td>\n",
       "      <td>True</td>\n",
       "      <td>True</td>\n",
       "    </tr>\n",
       "    <tr>\n",
       "      <th>...</th>\n",
       "      <td>...</td>\n",
       "      <td>...</td>\n",
       "      <td>...</td>\n",
       "      <td>...</td>\n",
       "      <td>...</td>\n",
       "      <td>...</td>\n",
       "      <td>...</td>\n",
       "      <td>...</td>\n",
       "      <td>...</td>\n",
       "      <td>...</td>\n",
       "      <td>...</td>\n",
       "      <td>...</td>\n",
       "      <td>...</td>\n",
       "      <td>...</td>\n",
       "      <td>...</td>\n",
       "      <td>...</td>\n",
       "      <td>...</td>\n",
       "      <td>...</td>\n",
       "    </tr>\n",
       "    <tr>\n",
       "      <th>751</th>\n",
       "      <td>False</td>\n",
       "      <td>False</td>\n",
       "      <td>False</td>\n",
       "      <td>False</td>\n",
       "      <td>False</td>\n",
       "      <td>False</td>\n",
       "      <td>False</td>\n",
       "      <td>False</td>\n",
       "      <td>False</td>\n",
       "      <td>False</td>\n",
       "      <td>False</td>\n",
       "      <td>False</td>\n",
       "      <td>False</td>\n",
       "      <td>False</td>\n",
       "      <td>False</td>\n",
       "      <td>False</td>\n",
       "      <td>False</td>\n",
       "      <td>False</td>\n",
       "    </tr>\n",
       "    <tr>\n",
       "      <th>752</th>\n",
       "      <td>False</td>\n",
       "      <td>False</td>\n",
       "      <td>False</td>\n",
       "      <td>False</td>\n",
       "      <td>False</td>\n",
       "      <td>False</td>\n",
       "      <td>False</td>\n",
       "      <td>False</td>\n",
       "      <td>False</td>\n",
       "      <td>False</td>\n",
       "      <td>False</td>\n",
       "      <td>False</td>\n",
       "      <td>False</td>\n",
       "      <td>False</td>\n",
       "      <td>False</td>\n",
       "      <td>False</td>\n",
       "      <td>False</td>\n",
       "      <td>False</td>\n",
       "    </tr>\n",
       "    <tr>\n",
       "      <th>753</th>\n",
       "      <td>False</td>\n",
       "      <td>False</td>\n",
       "      <td>False</td>\n",
       "      <td>False</td>\n",
       "      <td>False</td>\n",
       "      <td>False</td>\n",
       "      <td>False</td>\n",
       "      <td>False</td>\n",
       "      <td>False</td>\n",
       "      <td>False</td>\n",
       "      <td>False</td>\n",
       "      <td>False</td>\n",
       "      <td>False</td>\n",
       "      <td>False</td>\n",
       "      <td>False</td>\n",
       "      <td>True</td>\n",
       "      <td>True</td>\n",
       "      <td>True</td>\n",
       "    </tr>\n",
       "    <tr>\n",
       "      <th>754</th>\n",
       "      <td>False</td>\n",
       "      <td>False</td>\n",
       "      <td>False</td>\n",
       "      <td>False</td>\n",
       "      <td>False</td>\n",
       "      <td>False</td>\n",
       "      <td>False</td>\n",
       "      <td>False</td>\n",
       "      <td>False</td>\n",
       "      <td>False</td>\n",
       "      <td>False</td>\n",
       "      <td>False</td>\n",
       "      <td>False</td>\n",
       "      <td>False</td>\n",
       "      <td>False</td>\n",
       "      <td>False</td>\n",
       "      <td>False</td>\n",
       "      <td>False</td>\n",
       "    </tr>\n",
       "    <tr>\n",
       "      <th>755</th>\n",
       "      <td>False</td>\n",
       "      <td>False</td>\n",
       "      <td>False</td>\n",
       "      <td>False</td>\n",
       "      <td>False</td>\n",
       "      <td>False</td>\n",
       "      <td>False</td>\n",
       "      <td>False</td>\n",
       "      <td>False</td>\n",
       "      <td>False</td>\n",
       "      <td>False</td>\n",
       "      <td>False</td>\n",
       "      <td>False</td>\n",
       "      <td>False</td>\n",
       "      <td>False</td>\n",
       "      <td>False</td>\n",
       "      <td>False</td>\n",
       "      <td>False</td>\n",
       "    </tr>\n",
       "  </tbody>\n",
       "</table>\n",
       "<p>756 rows × 18 columns</p>\n",
       "</div>"
      ],
      "text/plain": [
       "        id  season   city   date  team1  team2  toss_winner  toss_decision  \\\n",
       "0    False   False  False  False  False  False        False          False   \n",
       "1    False   False  False  False  False  False        False          False   \n",
       "2    False   False  False  False  False  False        False          False   \n",
       "3    False   False  False  False  False  False        False          False   \n",
       "4    False   False  False  False  False  False        False          False   \n",
       "..     ...     ...    ...    ...    ...    ...          ...            ...   \n",
       "751  False   False  False  False  False  False        False          False   \n",
       "752  False   False  False  False  False  False        False          False   \n",
       "753  False   False  False  False  False  False        False          False   \n",
       "754  False   False  False  False  False  False        False          False   \n",
       "755  False   False  False  False  False  False        False          False   \n",
       "\n",
       "     result  dl_applied  winner  win_by_runs  win_by_wickets  player_of_match  \\\n",
       "0     False       False   False        False           False            False   \n",
       "1     False       False   False        False           False            False   \n",
       "2     False       False   False        False           False            False   \n",
       "3     False       False   False        False           False            False   \n",
       "4     False       False   False        False           False            False   \n",
       "..      ...         ...     ...          ...             ...              ...   \n",
       "751   False       False   False        False           False            False   \n",
       "752   False       False   False        False           False            False   \n",
       "753   False       False   False        False           False            False   \n",
       "754   False       False   False        False           False            False   \n",
       "755   False       False   False        False           False            False   \n",
       "\n",
       "     venue  umpire1  umpire2  umpire3  \n",
       "0    False    False    False     True  \n",
       "1    False    False    False     True  \n",
       "2    False    False    False     True  \n",
       "3    False    False    False     True  \n",
       "4    False     True     True     True  \n",
       "..     ...      ...      ...      ...  \n",
       "751  False    False    False    False  \n",
       "752  False    False    False    False  \n",
       "753  False     True     True     True  \n",
       "754  False    False    False    False  \n",
       "755  False    False    False    False  \n",
       "\n",
       "[756 rows x 18 columns]"
      ]
     },
     "execution_count": 107,
     "metadata": {},
     "output_type": "execute_result"
    }
   ],
   "source": [
    "ipl.isnull()"
   ]
  },
  {
   "cell_type": "code",
   "execution_count": 62,
   "id": "826234d8",
   "metadata": {},
   "outputs": [
    {
     "data": {
      "text/plain": [
       "id                 False\n",
       "season             False\n",
       "city                True\n",
       "date               False\n",
       "team1              False\n",
       "team2              False\n",
       "toss_winner        False\n",
       "toss_decision      False\n",
       "result             False\n",
       "dl_applied         False\n",
       "winner              True\n",
       "win_by_runs        False\n",
       "win_by_wickets     False\n",
       "player_of_match     True\n",
       "venue              False\n",
       "umpire1             True\n",
       "umpire2             True\n",
       "umpire3             True\n",
       "dtype: bool"
      ]
     },
     "execution_count": 62,
     "metadata": {},
     "output_type": "execute_result"
    }
   ],
   "source": [
    "ipl.isnull().any()#Returns boolean result for any null values"
   ]
  },
  {
   "cell_type": "code",
   "execution_count": 108,
   "id": "a8b3fefe",
   "metadata": {},
   "outputs": [
    {
     "data": {
      "text/plain": [
       "id                   0\n",
       "season               0\n",
       "city                 7\n",
       "date                 0\n",
       "team1                0\n",
       "team2                0\n",
       "toss_winner          0\n",
       "toss_decision        0\n",
       "result               0\n",
       "dl_applied           0\n",
       "winner               4\n",
       "win_by_runs          0\n",
       "win_by_wickets       0\n",
       "player_of_match      4\n",
       "venue                0\n",
       "umpire1              2\n",
       "umpire2              2\n",
       "umpire3            637\n",
       "dtype: int64"
      ]
     },
     "execution_count": 108,
     "metadata": {},
     "output_type": "execute_result"
    }
   ],
   "source": [
    "ipl.isnull().sum()"
   ]
  },
  {
   "cell_type": "markdown",
   "id": "af41e7c5",
   "metadata": {},
   "source": [
    "# Top 5 players [2009-2019]"
   ]
  },
  {
   "cell_type": "code",
   "execution_count": 12,
   "id": "fff6aacc",
   "metadata": {},
   "outputs": [
    {
     "data": {
      "text/plain": [
       "CH Gayle          21\n",
       "AB de Villiers    20\n",
       "RG Sharma         17\n",
       "Name: player_of_match, dtype: int64"
      ]
     },
     "execution_count": 12,
     "metadata": {},
     "output_type": "execute_result"
    }
   ],
   "source": [
    "#to get the top 3 players with most man of the man awards.\n",
    "ipl['player_of_match'].value_counts()[0:3]"
   ]
  },
  {
   "cell_type": "code",
   "execution_count": 20,
   "id": "c05711d2",
   "metadata": {
    "scrolled": true
   },
   "outputs": [
    {
     "data": {
      "image/png": "[encoded data removed]",
      "text/plain": [
       "<Figure size 576x360 with 1 Axes>"
      ]
     },
     "metadata": {
      "needs_background": "light"
     },
     "output_type": "display_data"
    }
   ],
   "source": [
    "#Using the matplotlib library to create a bar_plot\n",
    "#the first parameter is a categorical value and the other one a numerical value.\n",
    "plt.figure(figsize=(8,5))\n",
    "plt.bar(list(ipl['player_of_match'].value_counts()[0:5].keys()),list(ipl['player_of_match'].value_counts()[0:5]))\n",
    "plt.show()"
   ]
  },
  {
   "cell_type": "code",
   "execution_count": 21,
   "id": "3888b694",
   "metadata": {},
   "outputs": [
    {
     "data": {
      "text/plain": [
       "normal       743\n",
       "tie            9\n",
       "no result      4\n",
       "Name: result, dtype: int64"
      ]
     },
     "execution_count": 21,
     "metadata": {},
     "output_type": "execute_result"
    }
   ],
   "source": [
    " ipl['result'].value_counts()"
   ]
  },
  {
   "cell_type": "code",
   "execution_count": 22,
   "id": "691caaab",
   "metadata": {},
   "outputs": [
    {
     "data": {
      "text/plain": [
       "Mumbai Indians                 98\n",
       "Kolkata Knight Riders          92\n",
       "Chennai Super Kings            89\n",
       "Royal Challengers Bangalore    81\n",
       "Kings XI Punjab                81\n",
       "Delhi Daredevils               80\n",
       "Rajasthan Royals               80\n",
       "Sunrisers Hyderabad            46\n",
       "Deccan Chargers                43\n",
       "Pune Warriors                  20\n",
       "Gujarat Lions                  15\n",
       "Delhi Capitals                 10\n",
       "Kochi Tuskers Kerala            8\n",
       "Rising Pune Supergiants         7\n",
       "Rising Pune Supergiant          6\n",
       "Name: toss_winner, dtype: int64"
      ]
     },
     "execution_count": 22,
     "metadata": {},
     "output_type": "execute_result"
    }
   ],
   "source": [
    "ipl['toss_winner'].value_counts()"
   ]
  },
  {
   "cell_type": "code",
   "execution_count": 103,
   "id": "86f4013d",
   "metadata": {},
   "outputs": [
    {
     "data": {
      "text/html": [
       "<div>\n",
       "<style scoped>\n",
       "    .dataframe tbody tr th:only-of-type {\n",
       "        vertical-align: middle;\n",
       "    }\n",
       "\n",
       "    .dataframe tbody tr th {\n",
       "        vertical-align: top;\n",
       "    }\n",
       "\n",
       "    .dataframe thead th {\n",
       "        text-align: right;\n",
       "    }\n",
       "</style>\n",
       "<table border=\"1\" class=\"dataframe\">\n",
       "  <thead>\n",
       "    <tr style=\"text-align: right;\">\n",
       "      <th></th>\n",
       "      <th>id</th>\n",
       "      <th>season</th>\n",
       "      <th>city</th>\n",
       "      <th>date</th>\n",
       "      <th>team1</th>\n",
       "      <th>team2</th>\n",
       "      <th>toss_winner</th>\n",
       "      <th>toss_decision</th>\n",
       "      <th>result</th>\n",
       "      <th>dl_applied</th>\n",
       "      <th>winner</th>\n",
       "      <th>win_by_runs</th>\n",
       "      <th>win_by_wickets</th>\n",
       "      <th>player_of_match</th>\n",
       "      <th>venue</th>\n",
       "      <th>umpire1</th>\n",
       "      <th>umpire2</th>\n",
       "      <th>umpire3</th>\n",
       "    </tr>\n",
       "  </thead>\n",
       "  <tbody>\n",
       "    <tr>\n",
       "      <th>0</th>\n",
       "      <td>1</td>\n",
       "      <td>2017</td>\n",
       "      <td>Hyderabad</td>\n",
       "      <td>2017-04-05</td>\n",
       "      <td>Sunrisers Hyderabad</td>\n",
       "      <td>Royal Challengers Bangalore</td>\n",
       "      <td>Royal Challengers Bangalore</td>\n",
       "      <td>field</td>\n",
       "      <td>normal</td>\n",
       "      <td>0</td>\n",
       "      <td>Sunrisers Hyderabad</td>\n",
       "      <td>35</td>\n",
       "      <td>0</td>\n",
       "      <td>Yuvraj Singh</td>\n",
       "      <td>Rajiv Gandhi International Stadium, Uppal</td>\n",
       "      <td>AY Dandekar</td>\n",
       "      <td>NJ Llong</td>\n",
       "      <td>NaN</td>\n",
       "    </tr>\n",
       "    <tr>\n",
       "      <th>4</th>\n",
       "      <td>5</td>\n",
       "      <td>2017</td>\n",
       "      <td>Bangalore</td>\n",
       "      <td>2017-04-08</td>\n",
       "      <td>Royal Challengers Bangalore</td>\n",
       "      <td>Delhi Daredevils</td>\n",
       "      <td>Royal Challengers Bangalore</td>\n",
       "      <td>bat</td>\n",
       "      <td>normal</td>\n",
       "      <td>0</td>\n",
       "      <td>Royal Challengers Bangalore</td>\n",
       "      <td>15</td>\n",
       "      <td>0</td>\n",
       "      <td>KM Jadhav</td>\n",
       "      <td>M Chinnaswamy Stadium</td>\n",
       "      <td>NaN</td>\n",
       "      <td>NaN</td>\n",
       "      <td>NaN</td>\n",
       "    </tr>\n",
       "    <tr>\n",
       "      <th>8</th>\n",
       "      <td>9</td>\n",
       "      <td>2017</td>\n",
       "      <td>Pune</td>\n",
       "      <td>2017-04-11</td>\n",
       "      <td>Delhi Daredevils</td>\n",
       "      <td>Rising Pune Supergiant</td>\n",
       "      <td>Rising Pune Supergiant</td>\n",
       "      <td>field</td>\n",
       "      <td>normal</td>\n",
       "      <td>0</td>\n",
       "      <td>Delhi Daredevils</td>\n",
       "      <td>97</td>\n",
       "      <td>0</td>\n",
       "      <td>SV Samson</td>\n",
       "      <td>Maharashtra Cricket Association Stadium</td>\n",
       "      <td>AY Dandekar</td>\n",
       "      <td>S Ravi</td>\n",
       "      <td>NaN</td>\n",
       "    </tr>\n",
       "    <tr>\n",
       "      <th>13</th>\n",
       "      <td>14</td>\n",
       "      <td>2017</td>\n",
       "      <td>Kolkata</td>\n",
       "      <td>2017-04-15</td>\n",
       "      <td>Kolkata Knight Riders</td>\n",
       "      <td>Sunrisers Hyderabad</td>\n",
       "      <td>Sunrisers Hyderabad</td>\n",
       "      <td>field</td>\n",
       "      <td>normal</td>\n",
       "      <td>0</td>\n",
       "      <td>Kolkata Knight Riders</td>\n",
       "      <td>17</td>\n",
       "      <td>0</td>\n",
       "      <td>RV Uthappa</td>\n",
       "      <td>Eden Gardens</td>\n",
       "      <td>AY Dandekar</td>\n",
       "      <td>NJ Llong</td>\n",
       "      <td>NaN</td>\n",
       "    </tr>\n",
       "    <tr>\n",
       "      <th>14</th>\n",
       "      <td>15</td>\n",
       "      <td>2017</td>\n",
       "      <td>Delhi</td>\n",
       "      <td>2017-04-15</td>\n",
       "      <td>Delhi Daredevils</td>\n",
       "      <td>Kings XI Punjab</td>\n",
       "      <td>Delhi Daredevils</td>\n",
       "      <td>bat</td>\n",
       "      <td>normal</td>\n",
       "      <td>0</td>\n",
       "      <td>Delhi Daredevils</td>\n",
       "      <td>51</td>\n",
       "      <td>0</td>\n",
       "      <td>CJ Anderson</td>\n",
       "      <td>Feroz Shah Kotla</td>\n",
       "      <td>YC Barde</td>\n",
       "      <td>Nitin Menon</td>\n",
       "      <td>NaN</td>\n",
       "    </tr>\n",
       "  </tbody>\n",
       "</table>\n",
       "</div>"
      ],
      "text/plain": [
       "    id  season       city        date                        team1  \\\n",
       "0    1    2017  Hyderabad  2017-04-05          Sunrisers Hyderabad   \n",
       "4    5    2017  Bangalore  2017-04-08  Royal Challengers Bangalore   \n",
       "8    9    2017       Pune  2017-04-11             Delhi Daredevils   \n",
       "13  14    2017    Kolkata  2017-04-15        Kolkata Knight Riders   \n",
       "14  15    2017      Delhi  2017-04-15             Delhi Daredevils   \n",
       "\n",
       "                          team2                  toss_winner toss_decision  \\\n",
       "0   Royal Challengers Bangalore  Royal Challengers Bangalore         field   \n",
       "4              Delhi Daredevils  Royal Challengers Bangalore           bat   \n",
       "8        Rising Pune Supergiant       Rising Pune Supergiant         field   \n",
       "13          Sunrisers Hyderabad          Sunrisers Hyderabad         field   \n",
       "14              Kings XI Punjab             Delhi Daredevils           bat   \n",
       "\n",
       "    result  dl_applied                       winner  win_by_runs  \\\n",
       "0   normal           0          Sunrisers Hyderabad           35   \n",
       "4   normal           0  Royal Challengers Bangalore           15   \n",
       "8   normal           0             Delhi Daredevils           97   \n",
       "13  normal           0        Kolkata Knight Riders           17   \n",
       "14  normal           0             Delhi Daredevils           51   \n",
       "\n",
       "    win_by_wickets player_of_match                                      venue  \\\n",
       "0                0    Yuvraj Singh  Rajiv Gandhi International Stadium, Uppal   \n",
       "4                0       KM Jadhav                      M Chinnaswamy Stadium   \n",
       "8                0       SV Samson    Maharashtra Cricket Association Stadium   \n",
       "13               0      RV Uthappa                               Eden Gardens   \n",
       "14               0     CJ Anderson                           Feroz Shah Kotla   \n",
       "\n",
       "        umpire1      umpire2 umpire3  \n",
       "0   AY Dandekar     NJ Llong     NaN  \n",
       "4           NaN          NaN     NaN  \n",
       "8   AY Dandekar       S Ravi     NaN  \n",
       "13  AY Dandekar     NJ Llong     NaN  \n",
       "14     YC Barde  Nitin Menon     NaN  "
      ]
     },
     "execution_count": 103,
     "metadata": {},
     "output_type": "execute_result"
    }
   ],
   "source": [
    "batting_first = ipl[ipl['win_by_runs']!=0]\n",
    "batting_first.head()"
   ]
  },
  {
   "cell_type": "code",
   "execution_count": 72,
   "id": "f8c2314d",
   "metadata": {},
   "outputs": [
    {
     "data": {
      "text/plain": [
       "2013    76\n",
       "2012    74\n",
       "2011    73\n",
       "2010    60\n",
       "2014    60\n",
       "2016    60\n",
       "2018    60\n",
       "2019    60\n",
       "2017    59\n",
       "2015    59\n",
       "2008    58\n",
       "2009    57\n",
       "Name: season, dtype: int64"
      ]
     },
     "execution_count": 72,
     "metadata": {},
     "output_type": "execute_result"
    }
   ],
   "source": [
    "ipl['season'].value_counts()"
   ]
  },
  {
   "cell_type": "markdown",
   "id": "1d1ea04f",
   "metadata": {},
   "source": [
    "# Win_by_runs distribution"
   ]
  },
  {
   "cell_type": "code",
   "execution_count": 90,
   "id": "42931315",
   "metadata": {},
   "outputs": [
    {
     "data": {
      "image/png": "[encoded data removed]",
      "text/plain": [
       "<Figure size 720x576 with 1 Axes>"
      ]
     },
     "metadata": {
      "needs_background": "light"
     },
     "output_type": "display_data"
    }
   ],
   "source": [
    "#histogram represtation of team win_by_runs \n",
    "plt.figure(figsize=(10,8))\n",
    "plt.hist(batting_first['win_by_runs'],color='g')\n",
    "plt.title('Team win_by_runs dirstribution')\n",
    "plt.xlabel('No_of_runs')\n",
    "plt.ylabel('No_of_matches')\n",
    "plt.show()"
   ]
  },
  {
   "cell_type": "markdown",
   "id": "bb9468c8",
   "metadata": {},
   "source": [
    "# Results of the matches [2009-2019]"
   ]
  },
  {
   "cell_type": "code",
   "execution_count": 88,
   "id": "bf7e9f12",
   "metadata": {},
   "outputs": [
    {
     "data": {
      "text/plain": [
       "normal       743\n",
       "tie            9\n",
       "no result      4\n",
       "Name: result, dtype: int64"
      ]
     },
     "execution_count": 88,
     "metadata": {},
     "output_type": "execute_result"
    }
   ],
   "source": [
    "ipl['result'].value_counts()"
   ]
  },
  {
   "cell_type": "code",
   "execution_count": 100,
   "id": "63ce17cd",
   "metadata": {},
   "outputs": [
    {
     "data": {
      "image/png": "[encoded data removed]",
      "text/plain": [
       "<Figure size 576x360 with 1 Axes>"
      ]
     },
     "metadata": {
      "needs_background": "light"
     },
     "output_type": "display_data"
    }
   ],
   "source": [
    "plt.figure(figsize = (8,5))\n",
    "plt.bar(list(ipl['result'].value_counts().keys()),list(ipl['result'].value_counts()),color = 'orange')\n",
    "plt.title('dirstribution of results')\n",
    "plt.ylabel('No_of_matches')\n",
    "plt.xlabel('Match_result')\n",
    "plt.show()"
   ]
  },
  {
   "cell_type": "markdown",
   "id": "7a8d9305",
   "metadata": {},
   "source": [
    "# Top 5 umpires that umpired during 2009-2019"
   ]
  },
  {
   "cell_type": "code",
   "execution_count": 101,
   "id": "d1b21392",
   "metadata": {},
   "outputs": [
    {
     "data": {
      "text/plain": [
       "HDPK Dharmasena    73\n",
       "Asad Rauf          51\n",
       "S Ravi             49\n",
       "AK Chaudhary       43\n",
       "Aleem Dar          38\n",
       "Name: umpire1, dtype: int64"
      ]
     },
     "execution_count": 101,
     "metadata": {},
     "output_type": "execute_result"
    }
   ],
   "source": [
    "ipl['umpire1'].value_counts() [0:5]"
   ]
  },
  {
   "cell_type": "code",
   "execution_count": 6,
   "id": "ec72aae3",
   "metadata": {},
   "outputs": [
    {
     "data": {
      "image/png": "[encoded data removed]",
      "text/plain": [
       "<Figure size 720x360 with 1 Axes>"
      ]
     },
     "metadata": {
      "needs_background": "light"
     },
     "output_type": "display_data"
    }
   ],
   "source": [
    "ipl['umpire1'].value_counts()[0:5]\n",
    "plt.figure(figsize = (10,5))\n",
    "plt.bar(list(ipl['umpire1'].value_counts()[0:5].keys()),list(ipl['umpire1'].value_counts()[0:5]),color='r')\n",
    "plt.title('Top 5 people that umpired')\n",
    "plt.ylabel('No.of Matches umpired')\n",
    "plt.show()"
   ]
  },
  {
   "cell_type": "code",
   "execution_count": 9,
   "id": "eb3f156b",
   "metadata": {},
   "outputs": [
    {
     "data": {
      "image/png": "[encoded data removed]",
      "text/plain": [
       "<Figure size 720x360 with 1 Axes>"
      ]
     },
     "metadata": {
      "needs_background": "light"
     },
     "output_type": "display_data"
    }
   ],
   "source": [
    "winner_results = ipl['winner'].value_counts()[0:3]\n",
    "plt.figure(figsize = (10,5))\n",
    "plt.bar(list(winner_results.keys()),list(winner_results))\n",
    "plt.title('Top 3 Teams to win (2009-2019)')\n",
    "plt.ylabel('No.of Matches')\n",
    "plt.xlabel('Teams')\n",
    "plt.show()"
   ]
  },
  {
   "cell_type": "code",
   "execution_count": null,
   "id": "a82ef27f",
   "metadata": {},
   "outputs": [],
   "source": []
  }
 ],
 "metadata": {
  "kernelspec": {
   "display_name": "Python 3 (ipykernel)",
   "language": "python",
   "name": "python3"
  },
  "language_info": {
   "codemirror_mode": {
    "name": "ipython",
    "version": 3
   },
   "file_extension": ".py",
   "mimetype": "text/x-python",
   "name": "python",
   "nbconvert_exporter": "python",
   "pygments_lexer": "ipython3",
   "version": "3.9.12"
  }
 },
 "nbformat": 4,
 "nbformat_minor": 5
}
